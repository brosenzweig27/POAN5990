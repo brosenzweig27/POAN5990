{
 "cells": [
  {
   "cell_type": "code",
   "execution_count": 1,
   "metadata": {},
   "outputs": [],
   "source": [
    "import sys\n",
    "import os\n",
    "import pandas as pd\n",
    "import numpy as np"
   ]
  },
  {
   "cell_type": "code",
   "execution_count": 2,
   "metadata": {},
   "outputs": [],
   "source": [
    "\n",
    "#############################################################################\n",
    "### Import and inspect the desired datasets\n",
    "#############################################################################\n",
    "\n",
    "filt = pd.read_csv(\"data/filtered_data.csv\")\n",
    "# filt = pd.read_csv(\"imputed_filt.csv\")\n",
    "# print(filt.head())\n",
    "# print(len(filt))\n",
    "\n",
    "out = pd.read_csv(\"data/targets.csv\")\n",
    "# out = pd.read_csv(\"imputed_targets.csv\")\n",
    "# print(out.head())\n",
    "# print(len(out))\n",
    "\n",
    "# Get the number of columns in the input dataframe\n",
    "ncol = len(filt.columns)\n"
   ]
  },
  {
   "cell_type": "code",
   "execution_count": 3,
   "metadata": {},
   "outputs": [
    {
     "name": "stdout",
     "output_type": "stream",
     "text": [
      "339\n"
     ]
    }
   ],
   "source": [
    "#############################################################################\n",
    "### Use the vocab_dictionary function to create the dictionary mapping\n",
    "#############################################################################\n",
    "\n",
    "from scripts.myfunctions import vocab_dictionary\n",
    "\n",
    "#############################################################################\n",
    "### Retrieve the vocabulary for the input and output data\n",
    "#############################################################################\n",
    "\n",
    "in_vocab = vocab_dictionary(filt)\n",
    "out_vocab = vocab_dictionary(out)\n",
    "\n",
    "vocab_size = len(in_vocab)\n",
    "print(vocab_size)"
   ]
  },
  {
   "cell_type": "code",
   "execution_count": 4,
   "metadata": {},
   "outputs": [],
   "source": [
    "#############################################################################\n",
    "### Create data subsets for 2022 and other year subsets we may want\n",
    "#############################################################################\n",
    "\n",
    "# Get all data before most recent year (2022)\n",
    "pre_2022 = filt[filt['year'] != 'a2022'].copy()\n",
    "els_2022 = filt[filt['year'] == 'a2022'].copy()\n",
    "\n",
    "out_pre_2022 = out[:len(pre_2022)]\n",
    "out_2022 = out[len(pre_2022):]\n",
    "\n",
    "elnos_2022 = out_2022.index.tolist()\n",
    "elnos_pre2022 = pre_2022.index.tolist()\n",
    "\n",
    "# Get data from 2020\n",
    "data_2020 = filt[filt['year'] == 'a2020'].copy()\n",
    "out_2020 = pd.merge(out, data_2020, left_index=True, right_index=True).copy()\n",
    "\n",
    "elnos_2020 = data_2020.index.tolist()\n",
    "\n",
    "# Also subset some random year, take 1988\n",
    "\n",
    "data_1988 = filt[filt['year'] == 'a1988'].copy()\n",
    "data_not1988 = filt[filt['year'] != 'a1988'].copy()\n",
    "\n",
    "out_1988 = pd.merge(out, data_1988, left_index=True, right_index=True).copy()\n",
    "out_not1988 = pd.merge(out, data_not1988, left_index=True, right_index=True).copy()\n",
    "\n",
    "elnos_1988 = data_1988.index.tolist()"
   ]
  },
  {
   "cell_type": "code",
   "execution_count": 5,
   "metadata": {},
   "outputs": [
    {
     "name": "stdout",
     "output_type": "stream",
     "text": [
      "tensor([[ 38,  41,  52,  ..., 261, 286, 326],\n",
      "        [ 38,  41,  52,  ..., 258, 286, 326],\n",
      "        [ 38,  41,  51,  ..., 260, 289, 331],\n",
      "        ...,\n",
      "        [ 38,  41,  52,  ..., 261, 276, 328],\n",
      "        [ 38,  41,  51,  ..., 262, 279, 332],\n",
      "        [ 38,  42,  53,  ..., 264, 287, 325]]) tensor([[1, 1, 1,  ..., 1, 1, 1],\n",
      "        [1, 1, 1,  ..., 1, 1, 1],\n",
      "        [1, 1, 1,  ..., 1, 1, 1],\n",
      "        ...,\n",
      "        [1, 1, 1,  ..., 1, 1, 1],\n",
      "        [1, 1, 1,  ..., 1, 1, 1],\n",
      "        [1, 1, 1,  ..., 1, 1, 1]])\n"
     ]
    }
   ],
   "source": [
    "#############################################################################\n",
    "### Import encoding functions to get tensors to be used for training\n",
    "#############################################################################\n",
    "\n",
    "from scripts.myfunctions import encode_instance, encode_batch, encode_specific\n",
    "\n",
    "# Get a specific encoding of the elections from 2022, as an example\n",
    "x, y = encode_specific(df_in=els_2022, df_out=out_2022, els=elnos_2022, in_vocab=in_vocab, out_vocab=out_vocab)\n",
    "print(x, y)"
   ]
  },
  {
   "cell_type": "code",
   "execution_count": 6,
   "metadata": {},
   "outputs": [
    {
     "data": {
      "text/plain": [
       "(339, 14, 23, 8, 3, 0.2, 3, 'cpu')"
      ]
     },
     "execution_count": 6,
     "metadata": {},
     "output_type": "execute_result"
    }
   ],
   "source": [
    "#############################################################################\n",
    "### Set globals to be used by the model in the next step\n",
    "#############################################################################\n",
    "from scripts.config import globals\n",
    "globals(vocab_size=vocab_size, out_space=3, ncol=ncol, n_embd=23, n_head=8, n_layer=3, dropout=0.2, device='cpu')"
   ]
  },
  {
   "cell_type": "code",
   "execution_count": 7,
   "metadata": {},
   "outputs": [],
   "source": [
    "#############################################################################\n",
    "### Import an instance of the model\n",
    "#############################################################################\n",
    "from scripts.model import ElectionModel\n",
    "model = ElectionModel()"
   ]
  },
  {
   "cell_type": "code",
   "execution_count": 8,
   "metadata": {},
   "outputs": [
    {
     "name": "stdout",
     "output_type": "stream",
     "text": [
      "Training loss at iteration 0 = 1.095\n",
      "Training loss at iteration 1 = 1.095\n",
      "Training loss at iteration 2 = 1.094\n",
      "Training loss at iteration 3 = 1.095\n",
      "Training loss at iteration 4 = 1.095\n",
      "Training loss at iteration 5 = 1.095\n",
      "Training loss at iteration 6 = 1.094\n",
      "Training loss at iteration 7 = 1.094\n",
      "Training loss at iteration 8 = 1.094\n",
      "Training loss at iteration 9 = 1.095\n",
      "Final Loss = 1.0954928398132324\n"
     ]
    },
    {
     "data": {
      "image/png": "[encoded data removed]",
      "text/plain": [
       "<Figure size 640x480 with 1 Axes>"
      ]
     },
     "metadata": {},
     "output_type": "display_data"
    }
   ],
   "source": [
    "#############################################################################\n",
    "### Train the model\n",
    "#############################################################################\n",
    "\n",
    "from scripts.myfunctions import train\n",
    "\n",
    "train(model, epochs=10, data_in=data_not1988, data_out=out_not1988, in_vocab=in_vocab, out_vocab=out_vocab, \n",
    "      n_batch=100, lr = 1e-5, eval_iters = 1)"
   ]
  },
  {
   "cell_type": "code",
   "execution_count": 9,
   "metadata": {},
   "outputs": [
    {
     "name": "stdout",
     "output_type": "stream",
     "text": [
      "Percentage of 2022 house elections predicted correctly = 40.23%\n",
      "This is equivalent to 175 out of 435 correctly predicted.\n"
     ]
    }
   ],
   "source": [
    "#############################################################################\n",
    "### Evaluate the model on reserved data\n",
    "## In this case, assume we've subsetted out 2022 house elections\n",
    "#############################################################################\n",
    "\n",
    "from scripts.myfunctions import predict\n",
    "\n",
    "predict(model, data_in=data_1988, data_out=out_1988, els=elnos_1988, in_vocab=in_vocab, out_vocab=out_vocab)"
   ]
  },
  {
   "cell_type": "code",
   "execution_count": null,
   "metadata": {},
   "outputs": [],
   "source": []
  }
 ],
 "metadata": {
  "kernelspec": {
   "display_name": "littleguy",
   "language": "python",
   "name": "python3"
  },
  "language_info": {
   "codemirror_mode": {
    "name": "ipython",
    "version": 3
   },
   "file_extension": ".py",
   "mimetype": "text/x-python",
   "name": "python",
   "nbconvert_exporter": "python",
   "pygments_lexer": "ipython3",
   "version": "3.11.7"
  }
 },
 "nbformat": 4,
 "nbformat_minor": 2
}
